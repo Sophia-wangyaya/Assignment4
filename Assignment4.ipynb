{
 "cells": [
  {
   "cell_type": "code",
   "execution_count": 1,
   "id": "c9bf6267",
   "metadata": {
    "scrolled": true
   },
   "outputs": [
    {
     "name": "stdout",
     "output_type": "stream",
     "text": [
      "\n",
      "***** Page 1 in action *****\n",
      "\n",
      "***** Page 2 in action *****\n",
      "[]\n",
      "[]\n",
      "[]\n"
     ]
    }
   ],
   "source": [
    "import requests\n",
    "import csv\n",
    "import pandas as pd\n",
    "from bs4 import BeautifulSoup\n",
    "import pandas as pd\n",
    "\n",
    "products=[]\n",
    "brands=[]\n",
    "ratings=[]\n",
    "for i in range(1,3): \n",
    "    url = \"https://www.chypra.com/search?gender=female&order_by=popularity&page=\"+str(i)\n",
    "    quote_page = requests.get(url) \n",
    "    print(\"\\n***** Page \" + str(i) +\" in action *****\")\n",
    "    soup = BeautifulSoup(quote_page.content,'html.parser')\n",
    "    for item in soup.findAll(\"div\",href=True,attrs={\"class\":\"d-flex flex-column justify-content-between\"}):\n",
    "        page_no = str(i) \n",
    "        name=item.find(\"span\",attrs={\"class\":\"d-block text-body\"})\n",
    "        brand=item.find(\"small\",attrs={\"class\":\"d-block text-muted\"})\n",
    "        rating=item.find(\"span\",attrs={\"class\":\"badge badge-primary\"})\n",
    "        products.append(name.text)\n",
    "        brands.append(brand.text)\n",
    "        ratings.append(rating.text)\n",
    "print(products)\n",
    "print(brands)\n",
    "print(ratings)\n",
    "df=pd.DataFrame({\"Product Name\":products,\"Brands\":brands, \"Ratings\":ratings})           \n",
    "df\n",
    "df.to_csv('perfume.csv')"
   ]
  },
  {
   "cell_type": "code",
   "execution_count": 4,
   "id": "143667f8",
   "metadata": {},
   "outputs": [
    {
     "name": "stdout",
     "output_type": "stream",
     "text": [
      "<span class=\"d-block text-body\">Angel</span>\n"
     ]
    }
   ],
   "source": [
    "import requests\n",
    "import csv\n",
    "import pandas as pd\n",
    "from bs4 import BeautifulSoup\n",
    "import pandas as pd\n",
    "with open(\"Chypra.html\", \"r\") as f:\n",
    "    contents = f.read()\n",
    "    soup = BeautifulSoup(contents, 'lxml')\n",
    "print(soup.find(\"span\",attrs={\"class\":\"d-block text-body\"}))"
   ]
  },
  {
   "cell_type": "code",
   "execution_count": null,
   "id": "18cbec3e",
   "metadata": {},
   "outputs": [],
   "source": [
    "import requests\n",
    "from bs4 import BeautifulSoup\n",
    "import pandas as pd\n",
    "import csv\n",
    "products=[]\n",
    "brands=[]\n",
    "ratings=[]\n",
    "with open(\"Chypra.html\", \"r\") as f:\n",
    "    contents = f.read()\n",
    "    soup = BeautifulSoup(contents, 'lxml')\n",
    "    for item in soup.findAll(\"div\",href=True,attrs={\"class\":\"d-flex flex-column justify-content-between\"}):\n",
    "        name=item.find(\"span\",attrs={\"class\":\"d-block text-body\"})\n",
    "        brand=item.find(\"small\",attrs={\"class\":\"d-block text-muted\"})\n",
    "        rating=item.find(\"span\",attrs={\"class\":\"badge badge-primary\"})\n",
    "        products.append(brand.text)\n",
    "        brands.append(brand.text)\n",
    "        ratings.append(rating.text)\n",
    "print(products)"
   ]
  }
 ],
 "metadata": {
  "kernelspec": {
   "display_name": "Python 3",
   "language": "python",
   "name": "python3"
  },
  "language_info": {
   "codemirror_mode": {
    "name": "ipython",
    "version": 3
   },
   "file_extension": ".py",
   "mimetype": "text/x-python",
   "name": "python",
   "nbconvert_exporter": "python",
   "pygments_lexer": "ipython3",
   "version": "3.8.8"
  }
 },
 "nbformat": 4,
 "nbformat_minor": 5
}
